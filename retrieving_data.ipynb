{
 "cells": [
  {
   "cell_type": "code",
   "execution_count": 434,
   "id": "acbb373f",
   "metadata": {},
   "outputs": [],
   "source": [
    "import requests\n",
    "from bs4 import BeautifulSoup\n",
    "import pandas as pd\n",
    "import json\n",
    "import time\n",
    "from tqdm import tqdm"
   ]
  },
  {
   "cell_type": "markdown",
   "id": "0a58abd1",
   "metadata": {},
   "source": [
    "## Web scrapping data source \n",
    "Checking justjoin.it main site and offers sites: html schema, where are most important information, etc."
   ]
  },
  {
   "cell_type": "code",
   "execution_count": 413,
   "id": "708f57f7",
   "metadata": {},
   "outputs": [],
   "source": [
    "#main site with criteria, to not download all offers\n",
    "just_join_site = 'https://justjoin.it/remote_yes?keyword=analyst&keyword=data'\n",
    "\n",
    "#no_fluff_site = \"https://nofluffjobs.com/pl/artificial-intelligence?criteria=category%3Ddata,business-intelligence,business-analyst\""
   ]
  },
  {
   "cell_type": "code",
   "execution_count": 451,
   "id": "fadd246d",
   "metadata": {},
   "outputs": [],
   "source": [
    "f = requests.get(just_join_site)\n",
    "#print(f.text)"
   ]
  },
  {
   "cell_type": "code",
   "execution_count": 12,
   "id": "93c1f241",
   "metadata": {},
   "outputs": [],
   "source": [
    "main_site = BeautifulSoup(f.text, \"html.parser\" )"
   ]
  },
  {
   "cell_type": "code",
   "execution_count": 452,
   "id": "d7f8b797",
   "metadata": {},
   "outputs": [],
   "source": [
    "#print(main_site)"
   ]
  },
  {
   "cell_type": "code",
   "execution_count": 18,
   "id": "99270634",
   "metadata": {},
   "outputs": [
    {
     "data": {
      "text/plain": [
       "<title>Job Offers IT - Just Join IT</title>"
      ]
     },
     "execution_count": 18,
     "metadata": {},
     "output_type": "execute_result"
    }
   ],
   "source": [
    "main_site.title"
   ]
  },
  {
   "cell_type": "code",
   "execution_count": 22,
   "id": "b92dec28",
   "metadata": {},
   "outputs": [
    {
     "data": {
      "text/plain": [
       "'title'"
      ]
     },
     "execution_count": 22,
     "metadata": {},
     "output_type": "execute_result"
    }
   ],
   "source": [
    "main_site.title.name"
   ]
  },
  {
   "cell_type": "code",
   "execution_count": 23,
   "id": "2d809920",
   "metadata": {},
   "outputs": [
    {
     "data": {
      "text/plain": [
       "'Job Offers IT - Just Join IT'"
      ]
     },
     "execution_count": 23,
     "metadata": {},
     "output_type": "execute_result"
    }
   ],
   "source": [
    "main_site.title.string"
   ]
  },
  {
   "cell_type": "code",
   "execution_count": 25,
   "id": "88700619",
   "metadata": {},
   "outputs": [
    {
     "data": {
      "text/plain": [
       "'head'"
      ]
     },
     "execution_count": 25,
     "metadata": {},
     "output_type": "execute_result"
    }
   ],
   "source": [
    "main_site.title.parent.name"
   ]
  },
  {
   "cell_type": "code",
   "execution_count": 182,
   "id": "99c0f4e7",
   "metadata": {},
   "outputs": [
    {
     "name": "stdout",
     "output_type": "stream",
     "text": [
      "['/offers/inter-cars-s-a-big-data-engineer', '/offers/softblue-software-qa-engineer', '/offers/crodu-supply-chain-audit-analyst-warszawa', '/offers/n-ix-data-architect-data-unit-krakow', '/offers/ciklum-senior-golang-developer-wroclaw-378779', '/offers/hcltech-data-analyst-warszawa', '/offers/miele-global-services-supply-chain-data-analyst-wroclaw', '/offers/ciklum-senior-ruby-on-rails-developer-gdansk', '/offers/miele-global-services-full-stack-supply-chain-analyst-wroclaw', '/offers/aura-data-analyst-krakow-379739', '/offers/the-i-factory-software-engineer-application-specialist-krakow', '/offers/aura-data-analyst-warszawa-379728', '/offers/emoti-group-web-analyst-poznan', '/offers/c-f-s-a-fullstack-net-developer-warszawa', '/offers/naviparking-business-analyst', '/offers/silky-coders-senior-ios-developer-gdansk-375955', '/offers/cognizant-data-engineer', '/offers/booksy-senior-business-analyst-warszawa', '/offers/nestle-polska-data-scientist-waraszawa', '/offers/ntt-data-business-solutions-business-analyst', '/offers/luxoft-poland-technical-business-analyst-warszawa', '/offers/tidio-data-engineer-mid-gdansk', '/offers/hays-senior-analyst-1c-application-wroclaw', '/offers/1dea-senior-business-analyst-with-aris', '/offers/hcltech-data-analyst-warszawa-383362', '/offers/quod-financial-information-security-analyst-krakow', '/offers/kitopi-dwh-architect-data-modelling', '/offers/1dea-software-engineering-architect', '/offers/c-f-s-a-fullstack-developer-angular-net', '/offers/virtuslab-data-engineer-expert-wroclaw-384001', '/offers/syberry-lead-frontend-engineer-rzeszow', '/offers/link-group-manager-web-analytics', '/offers/spyrosoft-software-architect-wroclaw-377575', '/offers/customertimes-data-engineer-warszawa', '/offers/lingaro-azure-data-engineer', '/offers/silky-coders-senior-android-developer-obszar-mobile-gdynia-386712', '/offers/avanade-poland-data-engineer-in-microsoft-azure-cloud-warszawa-376066', '/offers/booksy-data-engineering-team-lead-warszawa', '/offers/ciklum-expert-golang-developer', '/offers/ciklum-middle-azure-devops-engineer', '/offers/edrone-data-analyst-krakow', '/offers/experis-manpower-group-data-analyst-lodz', '/offers/zf-group-erp-program-it-finance-business-analyst', '/offers/nestle-polska-senior-data-scientist', '/offers/link-group-remote-mid-data-analyst-wroclaw', '/offers/endysoft-big-data-engineer', '/offers/1dea-data-scientists-analysts-gdansk', '/offers/1dea-data-scientists-gdansk', '/offers/future-mind-it-business-analyst-mid-senior', '/offers/qodeca-lead-product-designer-wroclaw', '/offers/cloudfide-business-intelligence-power-bi-developer-gdansk-386119', '/offers/altimetrik-poland-buisness-analyst-wroclaw', '/offers/square-one-blockchain-business-analyst', '/offers/vodeno-go-developer-wroclaw-359256', '/offers/experis-manpower-group-data-quality-engineer', '/offers/experis-manpower-group-analityk-power-bi-lodz', '/offers/altimetrik-poland-buisness-analyst-olsztyn', '/offers/hcm-deck-group-product-manager', '/offers/epiq-product-support-analyst-szczecin', '/offers/epiq-product-support-analyst-wroclaw-385600', '/offers/epiq-product-support-analyst-wroclaw', '/offers/epiq-product-support-analyst-wroclaw-385601', '/offers/hubquest-senior-data-analyst-wroclaw', '/offers/booksy-senior-business-analyst-gdansk', '/offers/hubquest-senior-data-analyst-warszawa-379085', '/offers/hubquest-senior-data-analyst-warszawa', '/offers/flying-bisons-senior-graphic-designer', '/offers/kitopi-senior-data-analyst-krakow']\n"
     ]
    }
   ],
   "source": [
    "links_list = []\n",
    "for link in main_site.find_all(\"a\"):\n",
    "    if \"/offers/\" in link.get(\"href\"): \n",
    "        links_list.append(link.get(\"href\"))\n",
    "        \n",
    "print(links_list)"
   ]
  },
  {
   "cell_type": "code",
   "execution_count": 31,
   "id": "e5269e0c",
   "metadata": {
    "scrolled": true
   },
   "outputs": [
    {
     "name": "stdout",
     "output_type": "stream",
     "text": [
      "https://justjoin.it/offers/inter-cars-s-a-big-data-engineer\n",
      "https://justjoin.it/offers/softblue-software-qa-engineer\n",
      "https://justjoin.it/offers/crodu-supply-chain-audit-analyst-warszawa\n"
     ]
    }
   ],
   "source": [
    "for link in links_list[0:3]:\n",
    "    site = \"https://justjoin.it\" + link\n",
    "    print(site)"
   ]
  },
  {
   "cell_type": "code",
   "execution_count": 453,
   "id": "553536fa",
   "metadata": {},
   "outputs": [],
   "source": [
    "offer = requests.get(\"https://justjoin.it/offers/softblue-software-qa-engineer\")\n",
    "#print(offer.text)\n",
    "\n",
    "offer_soup = BeautifulSoup(offer.text, \"html.parser\" )\n"
   ]
  },
  {
   "cell_type": "code",
   "execution_count": 78,
   "id": "db134c56",
   "metadata": {},
   "outputs": [
    {
     "data": {
      "text/plain": [
       "'Software QA Engineer'"
      ]
     },
     "execution_count": 78,
     "metadata": {},
     "output_type": "execute_result"
    }
   ],
   "source": [
    "#position's name\n",
    "offer_soup.find_all(\"h1\")[1].text\n",
    "niceToHaveSkills"
   ]
  },
  {
   "cell_type": "code",
   "execution_count": 79,
   "id": "0467eaff",
   "metadata": {},
   "outputs": [],
   "source": [
    "#retrieving attributes values\n",
    "att_values = []\n",
    "for i in offer_soup.find_all(\"div\", {\"class\":\"css-15wyzmd\"}):\n",
    "    att_values.append(i.text)"
   ]
  },
  {
   "cell_type": "code",
   "execution_count": 80,
   "id": "d881a7c3",
   "metadata": {},
   "outputs": [],
   "source": [
    "#retriving attributes names\n",
    "att = []\n",
    "for i in offer_soup.find_all(\"div\", {\"class\":\"css-qyml61\"}):\n",
    "    att.append(i.text)"
   ]
  },
  {
   "cell_type": "code",
   "execution_count": 61,
   "id": "32a38748",
   "metadata": {},
   "outputs": [],
   "source": [
    "#print(att, att_values)"
   ]
  },
  {
   "cell_type": "code",
   "execution_count": 145,
   "id": "07b2b972",
   "metadata": {},
   "outputs": [
    {
     "data": {
      "text/plain": [
       "{'Type of work': 'Full-time',\n",
       " 'Experience': 'Senior',\n",
       " 'Employment Type': 'B2B',\n",
       " 'Operating mode': 'Remote'}"
      ]
     },
     "execution_count": 145,
     "metadata": {},
     "output_type": "execute_result"
    }
   ],
   "source": [
    "offer_attributes = dict(zip(att, att_values))\n",
    "\n",
    "offer_attributes"
   ]
  },
  {
   "cell_type": "code",
   "execution_count": 412,
   "id": "1ba60c4d",
   "metadata": {},
   "outputs": [],
   "source": [
    "salaries_soap = offer_soup.find_all(\"div\",{\"class\":\"css-j7qwjs\"})\n",
    "salaries_range = []\n",
    "salaries_type = []\n",
    "for i in salaries_soap:\n",
    "    salaries_range.append(i.find(\"span\",{\"class\":\"css-1pavfqb\"}).text)\n",
    "    salaries_type.append(i.find(\"span\",{\"class\":\"css-1waow8k\"}).text)\n",
    "\n",
    "salary = dict(zip(salaries_range,salaries_type))"
   ]
  },
  {
   "cell_type": "code",
   "execution_count": 112,
   "id": "768587fa",
   "metadata": {},
   "outputs": [
    {
     "data": {
      "text/plain": [
       "'SoftBlue'"
      ]
     },
     "execution_count": 112,
     "metadata": {},
     "output_type": "execute_result"
    }
   ],
   "source": [
    "company_name = offer_soup.find_all(\"div\", {\"class\": \"css-mbkv7r\"})[0].text\n",
    "company_name"
   ]
  },
  {
   "cell_type": "code",
   "execution_count": 113,
   "id": "df918858",
   "metadata": {},
   "outputs": [
    {
     "data": {
      "text/plain": [
       "[<h3 class=\"MuiTypography-root MuiTypography-h3 css-tdc3dz\">Tech stack</h3>,\n",
       " <h3 class=\"MuiTypography-root MuiTypography-h3 css-1xhdodb\">Job description</h3>]"
      ]
     },
     "execution_count": 113,
     "metadata": {},
     "output_type": "execute_result"
    }
   ],
   "source": [
    "offer_soup.find_all(\"h3\")"
   ]
  },
  {
   "cell_type": "code",
   "execution_count": 140,
   "id": "e3f6ceca",
   "metadata": {},
   "outputs": [
    {
     "data": {
      "text/plain": [
       "{'Automated Testing': 'advanced',\n",
       " 'Robot Framework': 'advanced',\n",
       " 'Python': 'regular',\n",
       " 'SQL': 'regular',\n",
       " 'CI/CD': 'regular',\n",
       " 'Docker': 'regular',\n",
       " 'Microsoft Azure Cloud': 'regular'}"
      ]
     },
     "execution_count": 140,
     "metadata": {},
     "output_type": "execute_result"
    }
   ],
   "source": [
    "tech_stack_soup = offer_soup.find(\"ul\",{\"class\":\"css-1uak81x\"})\n",
    "tech_stack = {}\n",
    "for i in tech_stack_soup.find_all(\"div\", {\"class\": \"css-cjymd2\"}):\n",
    "    tech_stack[i.find(\"h6\").text] = i.find(\"span\").text\n",
    "    \n",
    "tech_stack"
   ]
  },
  {
   "cell_type": "code",
   "execution_count": 212,
   "id": "425a1162",
   "metadata": {},
   "outputs": [],
   "source": [
    "## final solution\n",
    "## writing all data to pandas\n",
    "df = pd.DataFrame(columns = [\"name\", \"link\", \"attributes\", \"salary\", \"company_name\", \"tech_stack\", \"description\"])\n",
    "\n",
    "for index, link in enumerate(links_list[0:5]):\n",
    "    site = \"https://justjoin.it\" + link\n",
    "    offer = requests.get(site)\n",
    "    offer_soup = BeautifulSoup(offer.text, \"html.parser\")\n",
    "    \n",
    "    #job position name\n",
    "    name = offer_soup.find_all(\"h1\")[1].text\n",
    "    \n",
    "    #retriving attributes names\n",
    "    att = []\n",
    "    for i in offer_soup.find_all(\"div\", {\"class\":\"css-qyml61\"}):\n",
    "        att.append(i.text)\n",
    "    \n",
    "    #retrieving attributes values\n",
    "    att_values = []\n",
    "    for i in offer_soup.find_all(\"div\", {\"class\":\"css-15wyzmd\"}):\n",
    "        att_values.append(i.text)\n",
    "        \n",
    "    #attributtes: 'Type of work', Experience', 'Employment Type', 'Operating mode': 'Remote'}\n",
    "    offer_attributes = dict(zip(att, att_values))\n",
    "    \n",
    "    #salary\n",
    "    \n",
    "    salaries_soap = offer_soup.find_all(\"div\",{\"class\":\"css-j7qwjs\"})\n",
    "    if salaries_soap:\n",
    "        salaries_range = []\n",
    "        salaries_type = []\n",
    "        for i in salaries_soap:\n",
    "            salaries_range.append(i.find(\"span\",{\"class\":\"css-1pavfqb\"}).text)\n",
    "            salaries_type.append(i.find(\"span\",{\"class\":\"css-1waow8k\"}).text)\n",
    "\n",
    "    salary = dict(zip(salaries_range,salaries_type))\n",
    "    \n",
    "    #company name\n",
    "    company_name = offer_soup.find_all(\"div\", {\"class\": \"css-mbkv7r\"})[0].text\n",
    "    \n",
    "    #technical stack\n",
    "    tech_stack_soup = offer_soup.find(\"ul\",{\"class\":\"css-1uak81x\"})\n",
    "    tech_stack = {}\n",
    "    for i in tech_stack_soup.find_all(\"div\", {\"class\": \"css-cjymd2\"}):\n",
    "        tech_stack[i.find(\"h6\").text] = i.find(\"span\").text\n",
    "    #print({\"name\":name, \"link\":site, \"attributes\":offer_attributes, \"salary\": salary, \"company_name\":company_name, \"tech_stack\":tech_stack, \"description\":\"\"})\n",
    "    df.loc[index]={\"name\":name, \"link\":site, \"attributes\":offer_attributes, \"salary\": salary, \"company_name\":company_name, \"tech_stack\":tech_stack, \"description\":\"\"}\n",
    "    #df = df.reset_index(drop=True)"
   ]
  },
  {
   "cell_type": "code",
   "execution_count": 213,
   "id": "b73ee85f",
   "metadata": {
    "scrolled": true
   },
   "outputs": [
    {
     "data": {
      "text/html": [
       "<div>\n",
       "<style scoped>\n",
       "    .dataframe tbody tr th:only-of-type {\n",
       "        vertical-align: middle;\n",
       "    }\n",
       "\n",
       "    .dataframe tbody tr th {\n",
       "        vertical-align: top;\n",
       "    }\n",
       "\n",
       "    .dataframe thead th {\n",
       "        text-align: right;\n",
       "    }\n",
       "</style>\n",
       "<table border=\"1\" class=\"dataframe\">\n",
       "  <thead>\n",
       "    <tr style=\"text-align: right;\">\n",
       "      <th></th>\n",
       "      <th>name</th>\n",
       "      <th>link</th>\n",
       "      <th>attributes</th>\n",
       "      <th>salary</th>\n",
       "      <th>company_name</th>\n",
       "      <th>tech_stack</th>\n",
       "      <th>description</th>\n",
       "    </tr>\n",
       "  </thead>\n",
       "  <tbody>\n",
       "    <tr>\n",
       "      <th>0</th>\n",
       "      <td>Big Data Engineer</td>\n",
       "      <td>https://justjoin.it/offers/inter-cars-s-a-big-...</td>\n",
       "      <td>{'Type of work': 'Full-time', 'Experience': 'S...</td>\n",
       "      <td>{'15 000 - 17 500 PLN': 'Net/month - B2B', '12...</td>\n",
       "      <td>Inter Cars S.A.</td>\n",
       "      <td>{'Scala': 'advanced', 'Hadoop': 'advanced', 'S...</td>\n",
       "      <td></td>\n",
       "    </tr>\n",
       "    <tr>\n",
       "      <th>1</th>\n",
       "      <td>Software QA Engineer</td>\n",
       "      <td>https://justjoin.it/offers/softblue-software-q...</td>\n",
       "      <td>{'Type of work': 'Full-time', 'Experience': 'S...</td>\n",
       "      <td>{'13 500 - 21 500 PLN': 'Net/month - B2B'}</td>\n",
       "      <td>SoftBlue</td>\n",
       "      <td>{'Automated Testing': 'advanced', 'Robot Frame...</td>\n",
       "      <td></td>\n",
       "    </tr>\n",
       "    <tr>\n",
       "      <th>2</th>\n",
       "      <td>Supply Chain Audit Analyst</td>\n",
       "      <td>https://justjoin.it/offers/crodu-supply-chain-...</td>\n",
       "      <td>{'Type of work': 'Full-time', 'Experience': 'M...</td>\n",
       "      <td>{'7 560 - 11 760 PLN': 'Net/month - B2B'}</td>\n",
       "      <td>CRODU</td>\n",
       "      <td>{'Communication Skills': 'advanced', 'Audit': ...</td>\n",
       "      <td></td>\n",
       "    </tr>\n",
       "    <tr>\n",
       "      <th>3</th>\n",
       "      <td>Data Architect (Data Unit)</td>\n",
       "      <td>https://justjoin.it/offers/n-ix-data-architect...</td>\n",
       "      <td>{'Type of work': 'Full-time', 'Experience': 'S...</td>\n",
       "      <td>{'36 300 - 40 330 PLN': 'Net/month - B2B', '32...</td>\n",
       "      <td>N-iX</td>\n",
       "      <td>{'AWS': 'master', 'Databases': 'master', 'Pyth...</td>\n",
       "      <td></td>\n",
       "    </tr>\n",
       "    <tr>\n",
       "      <th>4</th>\n",
       "      <td>Senior Golang Developer</td>\n",
       "      <td>https://justjoin.it/offers/ciklum-senior-golan...</td>\n",
       "      <td>{'Type of work': 'Full-time', 'Experience': 'S...</td>\n",
       "      <td>{'23 100 - 28 870 PLN': 'Net/month - B2B'}</td>\n",
       "      <td>Ciklum</td>\n",
       "      <td>{'Go': 'advanced'}</td>\n",
       "      <td></td>\n",
       "    </tr>\n",
       "  </tbody>\n",
       "</table>\n",
       "</div>"
      ],
      "text/plain": [
       "                         name  \\\n",
       "0           Big Data Engineer   \n",
       "1        Software QA Engineer   \n",
       "2  Supply Chain Audit Analyst   \n",
       "3  Data Architect (Data Unit)   \n",
       "4     Senior Golang Developer   \n",
       "\n",
       "                                                link  \\\n",
       "0  https://justjoin.it/offers/inter-cars-s-a-big-...   \n",
       "1  https://justjoin.it/offers/softblue-software-q...   \n",
       "2  https://justjoin.it/offers/crodu-supply-chain-...   \n",
       "3  https://justjoin.it/offers/n-ix-data-architect...   \n",
       "4  https://justjoin.it/offers/ciklum-senior-golan...   \n",
       "\n",
       "                                          attributes  \\\n",
       "0  {'Type of work': 'Full-time', 'Experience': 'S...   \n",
       "1  {'Type of work': 'Full-time', 'Experience': 'S...   \n",
       "2  {'Type of work': 'Full-time', 'Experience': 'M...   \n",
       "3  {'Type of work': 'Full-time', 'Experience': 'S...   \n",
       "4  {'Type of work': 'Full-time', 'Experience': 'S...   \n",
       "\n",
       "                                              salary     company_name  \\\n",
       "0  {'15 000 - 17 500 PLN': 'Net/month - B2B', '12...  Inter Cars S.A.   \n",
       "1         {'13 500 - 21 500 PLN': 'Net/month - B2B'}         SoftBlue   \n",
       "2          {'7 560 - 11 760 PLN': 'Net/month - B2B'}            CRODU   \n",
       "3  {'36 300 - 40 330 PLN': 'Net/month - B2B', '32...             N-iX   \n",
       "4         {'23 100 - 28 870 PLN': 'Net/month - B2B'}           Ciklum   \n",
       "\n",
       "                                          tech_stack description  \n",
       "0  {'Scala': 'advanced', 'Hadoop': 'advanced', 'S...              \n",
       "1  {'Automated Testing': 'advanced', 'Robot Frame...              \n",
       "2  {'Communication Skills': 'advanced', 'Audit': ...              \n",
       "3  {'AWS': 'master', 'Databases': 'master', 'Pyth...              \n",
       "4                                 {'Go': 'advanced'}              "
      ]
     },
     "execution_count": 213,
     "metadata": {},
     "output_type": "execute_result"
    }
   ],
   "source": [
    "df.to_csv(\"offers_1.csv\")\n",
    "df"
   ]
  },
  {
   "cell_type": "code",
   "execution_count": 456,
   "id": "ae41f95e",
   "metadata": {},
   "outputs": [],
   "source": [
    "\n",
    "data = offer_soup.find({id:\"__NEXT_DATA__\"})\n",
    "#data"
   ]
  },
  {
   "cell_type": "code",
   "execution_count": 455,
   "id": "29c1a680",
   "metadata": {},
   "outputs": [
    {
     "data": {
      "text/plain": [
       "{}"
      ]
     },
     "execution_count": 455,
     "metadata": {},
     "output_type": "execute_result"
    }
   ],
   "source": [
    "data.attrs"
   ]
  },
  {
   "cell_type": "code",
   "execution_count": 256,
   "id": "69037c93",
   "metadata": {},
   "outputs": [],
   "source": [
    "json_data = json.loads(offer_soup.find(\"script\", {\"type\": \"application/json\"}).text)"
   ]
  },
  {
   "cell_type": "code",
   "execution_count": 457,
   "id": "b8c93c99",
   "metadata": {},
   "outputs": [],
   "source": [
    "#json_data\n"
   ]
  },
  {
   "cell_type": "code",
   "execution_count": 274,
   "id": "9e16883c",
   "metadata": {},
   "outputs": [
    {
     "name": "stdout",
     "output_type": "stream",
     "text": [
      "props\n",
      "page\n",
      "query\n",
      "buildId\n",
      "runtimeConfig\n",
      "isFallback\n",
      "dynamicIds\n",
      "gssp\n",
      "appGip\n",
      "scriptLoader\n"
     ]
    }
   ],
   "source": [
    "for key in json_data:\n",
    "    print(key)"
   ]
  },
  {
   "cell_type": "code",
   "execution_count": 458,
   "id": "89d99f3c",
   "metadata": {},
   "outputs": [
    {
     "data": {
      "text/plain": [
       "'z7iGzSLh53F8TdrmZbkk'"
      ]
     },
     "execution_count": 458,
     "metadata": {},
     "output_type": "execute_result"
    }
   ],
   "source": [
    "json_data['buildId']\n",
    "json_data['runtimeConfig']['MAP_API_KEY']\n"
   ]
  },
  {
   "cell_type": "code",
   "execution_count": 277,
   "id": "0c3d7910",
   "metadata": {},
   "outputs": [
    {
     "name": "stdout",
     "output_type": "stream",
     "text": [
      "pageProps\n",
      "__N_SSP\n"
     ]
    }
   ],
   "source": [
    "props = json_data['props']\n",
    "for key in props:\n",
    "    print(key)"
   ]
  },
  {
   "cell_type": "code",
   "execution_count": 280,
   "id": "4e11532c",
   "metadata": {},
   "outputs": [
    {
     "name": "stdout",
     "output_type": "stream",
     "text": [
      "tenantConfig\n",
      "unleashFlags\n",
      "_sentryTraceData\n",
      "_sentryBaggage\n",
      "config\n",
      "offer\n",
      "isMobile\n",
      "layoutMode\n",
      "dehydratedState\n",
      "showCurrencyDropdown\n"
     ]
    }
   ],
   "source": [
    "pageProps = props['pageProps']\n",
    "for key in pageProps:\n",
    "    print(key)"
   ]
  },
  {
   "cell_type": "code",
   "execution_count": 281,
   "id": "d81e2e34",
   "metadata": {},
   "outputs": [
    {
     "data": {
      "text/plain": [
       "{'slug': 'softblue-software-qa-engineer',\n",
       " 'title': 'Software QA Engineer',\n",
       " 'experienceLevel': {'label': 'Senior', 'value': 'senior'},\n",
       " 'category': {'id': 5,\n",
       "  'name': 'Python',\n",
       "  'key': 'python',\n",
       "  'parent_id': None,\n",
       "  'lft': 9,\n",
       "  'rgt': 10,\n",
       "  'depth': 0,\n",
       "  'children_count': 0,\n",
       "  'created_at': '2023-09-25T22:41:46.648Z',\n",
       "  'updated_at': '2023-09-25T22:41:46.648Z',\n",
       "  'icon': {'d': 'M18.1966 7.24671C18.6897 7.24766 19.137 7.38458 19.5227 7.70035C19.8047 7.93129 20.0111 8.2207 20.1735 8.544C20.3412 8.87802 20.4431 9.23379 20.5248 9.59671C20.6132 9.98975 20.6901 10.3848 20.7327 10.7856C20.7687 11.1246 20.7813 11.4646 20.7657 11.8057C20.736 12.4553 20.6148 13.0901 20.4506 13.7167C20.2948 14.3118 19.9889 14.8172 19.5005 15.2013C19.1233 15.4979 18.694 15.6764 18.2183 15.7362C18.0461 15.7579 17.8713 15.7677 17.6976 15.7679L14.6462 15.7693L11.5104 15.7692V16.5245H15.7796V16.5816C15.7795 17.2179 15.7809 17.8543 15.7786 18.4906C15.7777 18.7571 15.7542 19.0219 15.6806 19.2798C15.5678 19.6749 15.324 19.9646 14.9678 20.1643C14.6841 20.3233 14.378 20.4217 14.063 20.4932C13.4705 20.6276 12.8693 20.7033 12.2628 20.7285C11.8994 20.7437 11.5348 20.7498 11.1715 20.7377C10.9601 20.7306 10.7495 20.6836 10.5398 20.6468C10.2995 20.6046 10.0568 20.5681 9.82208 20.5038C9.20091 20.3336 8.68267 20.0057 8.3178 19.4626C8.11239 19.1569 8.00638 18.8174 7.99325 18.4492L7.99191 18.3435C7.99184 17.0415 7.9928 15.7395 7.99134 14.4375C7.99084 13.9976 8.09796 13.5891 8.34337 13.2228C8.68676 12.7101 9.16264 12.3925 9.77228 12.2861C9.91014 12.262 10.0523 12.2542 10.1926 12.254C11.4221 12.2513 12.6517 12.2537 13.8812 12.2512C14.466 12.25 14.9842 12.0507 15.4415 11.6937C15.9211 11.3193 16.2498 10.839 16.4195 10.2527C16.4869 10.02 16.5147 9.7819 16.5146 9.53998L16.5145 7.24646L18.1966 7.24671ZM14.0247 17.4817C13.5889 17.4797 13.2231 17.8416 13.2205 18.2773C13.2179 18.7165 13.5813 19.0834 14.0196 19.0842C14.4607 19.085 14.8239 18.7227 14.8235 18.2823C14.8231 17.8445 14.4631 17.4838 14.0247 17.4817ZM12.5245 3.0073C12.7516 3.01535 12.9781 3.06104 13.2034 3.09884C13.4478 3.13986 13.6941 3.17819 13.9332 3.2418C14.5202 3.39796 15.0184 3.69976 15.3874 4.19155C15.6491 4.54019 15.7799 4.93473 15.7797 5.37201L15.7794 9.34849C15.7789 10.3265 15.1316 11.1711 14.1885 11.4254C13.9987 11.4766 13.8048 11.4973 13.6081 11.4972C12.3903 11.4966 11.1725 11.499 9.95469 11.496C9.37484 11.4946 8.85366 11.6668 8.39087 12.0111C7.83331 12.4259 7.46596 12.9712 7.3165 13.6522C7.27704 13.832 7.26342 14.0204 7.26193 14.2051C7.25599 14.9451 7.25949 15.6852 7.25949 16.4253V16.4988C7.23991 16.5001 7.2302 16.5012 7.2205 16.5012C6.639 16.5012 6.0573 16.5108 5.47607 16.4984C4.8809 16.4855 4.38279 16.2464 3.98974 15.7965C3.63797 15.3938 3.43759 14.9156 3.30828 14.4044C3.19467 13.9553 3.10218 13.5016 3.04806 13.041C2.98684 12.5201 2.9824 11.9989 3.0446 11.4773C3.10882 10.9388 3.20634 10.4064 3.36568 9.8884C3.55458 9.27439 3.91018 8.77539 4.45193 8.41933C4.79721 8.1924 5.17696 8.05514 5.58754 8.00884C5.73105 7.99266 5.87615 7.98347 6.02054 7.98334L9.09834 7.9822L12.2612 7.98226V7.2269H7.99185V7.15825C7.99202 6.53564 7.99072 5.91302 7.99301 5.29043C7.99401 5.01605 8.01486 4.74317 8.08975 4.47722C8.2036 4.07295 8.45429 3.78013 8.81906 3.57897C9.13918 3.40246 9.48519 3.3005 9.84024 3.22825C10.726 3.04801 11.6218 2.97537 12.5245 3.0073ZM9.74936 4.66722C9.308 4.66794 8.95148 5.02371 8.95017 5.46469C8.94889 5.90558 9.31225 6.27068 9.75099 6.26937C10.1869 6.26805 10.5522 5.90312 10.552 5.46919C10.5519 5.02807 10.19 4.6665 9.74936 4.66722Z',\n",
       "   'x1': '-2.1054e-07',\n",
       "   'x2': '36',\n",
       "   'y1': '17.9048',\n",
       "   'y2': '17.9048',\n",
       "   'width': None,\n",
       "   'height': None,\n",
       "   'colorTo': '#1F7BC4',\n",
       "   'viewBox': None,\n",
       "   'clipRule': 'evenodd',\n",
       "   'fillRule': 'evenodd',\n",
       "   'colorFrom': '#1F5EB6',\n",
       "   'darkColorTo': '#1F7BC4',\n",
       "   'darkColorFrom': '#1F5EB6',\n",
       "   'gradientUnits': 'userSpaceOnUse'},\n",
       "  'seo_slug': 'python',\n",
       "  'static': False,\n",
       "  'redirect_to': None,\n",
       "  'editable_in_offer': True,\n",
       "  'button_width': '20.0',\n",
       "  'order': 5,\n",
       "  'childrenCount': 0,\n",
       "  'parentId': None,\n",
       "  'createdAt': '2023-09-25T22:41:46.648Z',\n",
       "  'updatedAt': '2023-09-25T22:41:46.648Z'},\n",
       " 'companyName': 'SoftBlue',\n",
       " 'companyUrl': 'http://www.softblue.pl',\n",
       " 'body': \"<p><strong>What will you be doing?</strong>\\xa0</p><p>·\\xa0\\xa0\\xa0\\xa0\\xa0\\xa0Ensuring high quality of our data platform by creating comprehensive tests\\xa0\\xa0\\xa0</p><p>·\\xa0\\xa0\\xa0\\xa0\\xa0\\xa0Preparing test cases which reflects business requirements\\xa0</p><p>·\\xa0\\xa0\\xa0\\xa0\\xa0\\xa0Creating automated tests using Python\\xa0</p><p>·\\xa0\\xa0\\xa0\\xa0\\xa0\\xa0Leading system integration, regression and user acceptance testing\\xa0</p><p>·\\xa0\\xa0\\xa0\\xa0\\xa0\\xa0Ensuring data quality together with Data Analysts\\xa0\\xa0\\xa0\\xa0</p><p>·\\xa0\\xa0\\xa0\\xa0\\xa0\\xa0Testing performance of data platform components and web applications\\xa0</p><p>·\\xa0\\xa0\\xa0\\xa0\\xa0\\xa0Contributing to reusable testing components development\\xa0</p><p>\\xa0</p><p>\\xa0</p><p><strong>What is required to get the job done?</strong>\\xa0</p><p>·\\xa0\\xa0\\xa0\\xa0\\xa0\\xa05 years of experience in software testing\\xa0</p><p>·\\xa0\\xa0\\xa0\\xa0\\xa0\\xa0Deep understanding of QA process and best practices\\xa0\\xa0\\xa0</p><p>·\\xa0\\xa0\\xa0\\xa0\\xa0\\xa0Strong coding skills (Python)\\xa0\\xa0</p><p>·\\xa0\\xa0\\xa0\\xa0\\xa0\\xa0Extensive experience with automation frameworks (Robot Framework)\\xa0</p><p>·\\xa0\\xa0\\xa0\\xa0\\xa0\\xa0Good knowledge about SQL\\xa0\\xa0</p><p>·\\xa0\\xa0\\xa0\\xa0\\xa0\\xa0Familiarity with CI/CD tools and Docker\\xa0</p><p>·\\xa0\\xa0\\xa0\\xa0\\xa0\\xa0<strong>Being a great team player</strong></p><p>·\\xa0\\xa0\\xa0\\xa0<strong>  Work from the Warsaw's  office -</strong>1/2 times a week\\xa0</p><p><br></p><p><strong>What are we building?</strong>\\xa0</p><p>·\\xa0\\xa0\\xa0\\xa0\\xa0\\xa0Data platform to integrate, manage and curate complex medical data sets\\xa0</p><p>·\\xa0\\xa0\\xa0\\xa0\\xa0\\xa0ETL solutions to process data from multiple disparate sources (spanning different countries, languages and compliance requirements)\\xa0</p><p>·\\xa0\\xa0\\xa0\\xa0\\xa0\\xa0Master data management tool specialized on the governance of electronic medical records (EMR) reference dimensions (diagnosis, posology, laboratory &amp; test values, doctors, products)\\xa0</p><p>·\\xa0\\xa0\\xa0\\xa0\\xa0\\xa0Privacy Hub that ensures patient data anonymization according to EU regulations\\xa0</p><p>·\\xa0\\xa0\\xa0\\xa0\\xa0\\xa0Business Intelligence solutions at the top of data we managed\\xa0</p><p>\\xa0</p><p>\\xa0</p><p><strong>What technology are we using?</strong>\\xa0</p><p>·\\xa0\\xa0\\xa0\\xa0\\xa0\\xa0Data Engineering: Cloudera Data Platform, Databricks, Hadoop, Hive, Kudu, Spark, Kafka, Camunda, Scala, Java,\\xa0\\xa0</p><p>·\\xa0\\xa0\\xa0\\xa0\\xa0\\xa0Web application development: Java, C#, Angular, Oracle, Elasticsearch, Kafka\\xa0</p><p>·\\xa0\\xa0\\xa0\\xa0\\xa0\\xa0Testing: Python, Robot Framework\\xa0</p><p>·\\xa0\\xa0\\xa0\\xa0\\xa0\\xa0Cloud: Microsoft Azure\\xa0</p><p>·\\xa0\\xa0\\xa0\\xa0\\xa0\\xa0Containerization: Docker, Kubernetes\\xa0</p><p><br></p><p><strong>What do we offer?</strong></p><p>\\xa0\\xa0</p><ul>\\r\\n<li>Challenging role within the company that creates innovative solutions</li>\\r\\n<li>Implementing best practices and building competencies of the entire team</li>\\r\\n<li>Subsidized private medical care and multisport card, life insurance</li>\\r\\n<li>Integration meetings</li>\\r\\n<li>Employee referral program</li>\\r\\n</ul>\",\n",
       " 'city': 'Bydgoszcz',\n",
       " 'street': 'Gdańska 106',\n",
       " 'latitude': 53.1347747,\n",
       " 'longitude': 18.0133152,\n",
       " 'companySize': '101-500',\n",
       " 'informationClause': 'Informujemy, że administratorem danych jest Softblue SA  z siedzibą w Bydgoszczy, ul. Jana Zamoyskiego 2B(dalej jako \"administrator\"). Masz prawo do żądania dostępu do swoich danych osobowych, ich sprostowania, usunięcia lub ograniczenia przetwarzania, prawo do wniesienia sprzeciwu wobec przetwarzania, a także prawo do przenoszenia danych oraz wniesienia skargi do organu nadzorczego. Dane osobowe przetwarzane będą w celu realizacji procesu rekrutacji. Podanie danych w zakresie wynikającym z ustawy z dnia 26 czerwca 1974 r. Kodeks pracy jest obowiązkowe. W pozostałym zakresie podanie danych jest dobrowolne. Odmowa podania danych obowiązkowych może skutkować brakiem możliwości przeprowadzenia procesu rekrutacji. Administrator przetwarza dane obowiązkowe na podstawie ciążącego na nim obowiązku prawnego, zaś w zakresie danych dodatkowych podstawą przetwarzania jest zgoda. Dane osobowe będą przetwarzane do czasu zakończenia postępowania rekrutacyjnego i przez okres możliwości dochodzenia ewentualnych roszczeń, a w przypadku wyrażenia zgody na udział w przyszłych postępowaniach rekrutacyjnych - do czasu wycofania tej zgody. Zgoda na przetwarzanie danych osobowych może zostać wycofana w dowolnym momencie. Odbiorcą danych jest serwis Just Join IT oraz inne podmioty, którym powierzyliśmy przetwarzanie danych w związku z rekrutacją.',\n",
       " 'futureConsent': 'Wyrażam zgodę na przetwarzanie moich danych osobowych dla celów przyszłych rekrutacji.',\n",
       " 'customConsent': None,\n",
       " 'companyLogoUrl': 'https://public.justjoin.it/offers/company_logos/original_x2/5a2bffd9edd005f3d1c3514395347a63e43985e8.png?1713258521',\n",
       " 'remoteInterview': True,\n",
       " 'employmentTypes': [{'to': 21500,\n",
       "   'from': 13500,\n",
       "   'type': 'b2b',\n",
       "   'currency': 'pln',\n",
       "   'fromChf': 3025,\n",
       "   'toChf': 4818,\n",
       "   'fromEur': 3127,\n",
       "   'toEur': 4980,\n",
       "   'fromGbp': 2648,\n",
       "   'toGbp': 4217,\n",
       "   'fromUsd': 3346,\n",
       "   'toUsd': 5330,\n",
       "   'fromPln': 13500,\n",
       "   'toPln': 21500,\n",
       "   'label': 'B2B',\n",
       "   'gross': None}],\n",
       " 'workplaceType': {'label': 'Remote', 'value': 'remote'},\n",
       " 'requiredSkills': [{'name': 'Automated Testing', 'level': 4},\n",
       "  {'name': 'Robot Framework', 'level': 4},\n",
       "  {'name': 'Python', 'level': 3},\n",
       "  {'name': 'SQL', 'level': 3},\n",
       "  {'name': 'CI/CD', 'level': 3},\n",
       "  {'name': 'Docker', 'level': 3},\n",
       "  {'name': 'Microsoft Azure Cloud', 'level': 3}],\n",
       " 'niceToHaveSkills': [],\n",
       " 'workingTime': {'label': 'Full-time', 'value': 'full_time'},\n",
       " 'applyUrl': 'https://softbluesa.traffit.com/public/form/a/1ee68bdc80a2a0c48a976d3aa29410ce6b376b3d',\n",
       " 'publishedAt': '2024-04-28T10:00:03.934Z',\n",
       " 'coverImage': 'https://og-image.justjoin.it/ogimage/JustJoinIt/softblue-software-qa-engineer?1714311782',\n",
       " 'brandStorySlug': None,\n",
       " 'brandStoryCoverPhotoUrl': None,\n",
       " 'brandStoryShortDescription': None,\n",
       " 'openToHireUkrainians': False,\n",
       " 'multilocation': [{'city': 'Bydgoszcz',\n",
       "   'street': 'Gdańska 106',\n",
       "   'slug': 'softblue-software-qa-engineer',\n",
       "   'salaryCurrency': None}],\n",
       " 'videoUrl': None,\n",
       " 'bannerUrl': None,\n",
       " 'isOfferActive': True}"
      ]
     },
     "execution_count": 281,
     "metadata": {},
     "output_type": "execute_result"
    }
   ],
   "source": [
    "pageProps['offer']"
   ]
  },
  {
   "cell_type": "code",
   "execution_count": 284,
   "id": "a4b58f06",
   "metadata": {},
   "outputs": [
    {
     "data": {
      "text/plain": [
       "{'slug': 'softblue-software-qa-engineer',\n",
       " 'title': 'Software QA Engineer',\n",
       " 'experienceLevel': {'label': 'Senior', 'value': 'senior'},\n",
       " 'category': {'id': 5,\n",
       "  'name': 'Python',\n",
       "  'key': 'python',\n",
       "  'parent_id': None,\n",
       "  'lft': 9,\n",
       "  'rgt': 10,\n",
       "  'depth': 0,\n",
       "  'children_count': 0,\n",
       "  'created_at': '2023-09-25T22:41:46.648Z',\n",
       "  'updated_at': '2023-09-25T22:41:46.648Z',\n",
       "  'icon': {'d': 'M18.1966 7.24671C18.6897 7.24766 19.137 7.38458 19.5227 7.70035C19.8047 7.93129 20.0111 8.2207 20.1735 8.544C20.3412 8.87802 20.4431 9.23379 20.5248 9.59671C20.6132 9.98975 20.6901 10.3848 20.7327 10.7856C20.7687 11.1246 20.7813 11.4646 20.7657 11.8057C20.736 12.4553 20.6148 13.0901 20.4506 13.7167C20.2948 14.3118 19.9889 14.8172 19.5005 15.2013C19.1233 15.4979 18.694 15.6764 18.2183 15.7362C18.0461 15.7579 17.8713 15.7677 17.6976 15.7679L14.6462 15.7693L11.5104 15.7692V16.5245H15.7796V16.5816C15.7795 17.2179 15.7809 17.8543 15.7786 18.4906C15.7777 18.7571 15.7542 19.0219 15.6806 19.2798C15.5678 19.6749 15.324 19.9646 14.9678 20.1643C14.6841 20.3233 14.378 20.4217 14.063 20.4932C13.4705 20.6276 12.8693 20.7033 12.2628 20.7285C11.8994 20.7437 11.5348 20.7498 11.1715 20.7377C10.9601 20.7306 10.7495 20.6836 10.5398 20.6468C10.2995 20.6046 10.0568 20.5681 9.82208 20.5038C9.20091 20.3336 8.68267 20.0057 8.3178 19.4626C8.11239 19.1569 8.00638 18.8174 7.99325 18.4492L7.99191 18.3435C7.99184 17.0415 7.9928 15.7395 7.99134 14.4375C7.99084 13.9976 8.09796 13.5891 8.34337 13.2228C8.68676 12.7101 9.16264 12.3925 9.77228 12.2861C9.91014 12.262 10.0523 12.2542 10.1926 12.254C11.4221 12.2513 12.6517 12.2537 13.8812 12.2512C14.466 12.25 14.9842 12.0507 15.4415 11.6937C15.9211 11.3193 16.2498 10.839 16.4195 10.2527C16.4869 10.02 16.5147 9.7819 16.5146 9.53998L16.5145 7.24646L18.1966 7.24671ZM14.0247 17.4817C13.5889 17.4797 13.2231 17.8416 13.2205 18.2773C13.2179 18.7165 13.5813 19.0834 14.0196 19.0842C14.4607 19.085 14.8239 18.7227 14.8235 18.2823C14.8231 17.8445 14.4631 17.4838 14.0247 17.4817ZM12.5245 3.0073C12.7516 3.01535 12.9781 3.06104 13.2034 3.09884C13.4478 3.13986 13.6941 3.17819 13.9332 3.2418C14.5202 3.39796 15.0184 3.69976 15.3874 4.19155C15.6491 4.54019 15.7799 4.93473 15.7797 5.37201L15.7794 9.34849C15.7789 10.3265 15.1316 11.1711 14.1885 11.4254C13.9987 11.4766 13.8048 11.4973 13.6081 11.4972C12.3903 11.4966 11.1725 11.499 9.95469 11.496C9.37484 11.4946 8.85366 11.6668 8.39087 12.0111C7.83331 12.4259 7.46596 12.9712 7.3165 13.6522C7.27704 13.832 7.26342 14.0204 7.26193 14.2051C7.25599 14.9451 7.25949 15.6852 7.25949 16.4253V16.4988C7.23991 16.5001 7.2302 16.5012 7.2205 16.5012C6.639 16.5012 6.0573 16.5108 5.47607 16.4984C4.8809 16.4855 4.38279 16.2464 3.98974 15.7965C3.63797 15.3938 3.43759 14.9156 3.30828 14.4044C3.19467 13.9553 3.10218 13.5016 3.04806 13.041C2.98684 12.5201 2.9824 11.9989 3.0446 11.4773C3.10882 10.9388 3.20634 10.4064 3.36568 9.8884C3.55458 9.27439 3.91018 8.77539 4.45193 8.41933C4.79721 8.1924 5.17696 8.05514 5.58754 8.00884C5.73105 7.99266 5.87615 7.98347 6.02054 7.98334L9.09834 7.9822L12.2612 7.98226V7.2269H7.99185V7.15825C7.99202 6.53564 7.99072 5.91302 7.99301 5.29043C7.99401 5.01605 8.01486 4.74317 8.08975 4.47722C8.2036 4.07295 8.45429 3.78013 8.81906 3.57897C9.13918 3.40246 9.48519 3.3005 9.84024 3.22825C10.726 3.04801 11.6218 2.97537 12.5245 3.0073ZM9.74936 4.66722C9.308 4.66794 8.95148 5.02371 8.95017 5.46469C8.94889 5.90558 9.31225 6.27068 9.75099 6.26937C10.1869 6.26805 10.5522 5.90312 10.552 5.46919C10.5519 5.02807 10.19 4.6665 9.74936 4.66722Z',\n",
       "   'x1': '-2.1054e-07',\n",
       "   'x2': '36',\n",
       "   'y1': '17.9048',\n",
       "   'y2': '17.9048',\n",
       "   'width': None,\n",
       "   'height': None,\n",
       "   'colorTo': '#1F7BC4',\n",
       "   'viewBox': None,\n",
       "   'clipRule': 'evenodd',\n",
       "   'fillRule': 'evenodd',\n",
       "   'colorFrom': '#1F5EB6',\n",
       "   'darkColorTo': '#1F7BC4',\n",
       "   'darkColorFrom': '#1F5EB6',\n",
       "   'gradientUnits': 'userSpaceOnUse'},\n",
       "  'seo_slug': 'python',\n",
       "  'static': False,\n",
       "  'redirect_to': None,\n",
       "  'editable_in_offer': True,\n",
       "  'button_width': '20.0',\n",
       "  'order': 5,\n",
       "  'childrenCount': 0,\n",
       "  'parentId': None,\n",
       "  'createdAt': '2023-09-25T22:41:46.648Z',\n",
       "  'updatedAt': '2023-09-25T22:41:46.648Z'},\n",
       " 'companyName': 'SoftBlue',\n",
       " 'companyUrl': 'http://www.softblue.pl',\n",
       " 'body': \"<p><strong>What will you be doing?</strong>\\xa0</p><p>·\\xa0\\xa0\\xa0\\xa0\\xa0\\xa0Ensuring high quality of our data platform by creating comprehensive tests\\xa0\\xa0\\xa0</p><p>·\\xa0\\xa0\\xa0\\xa0\\xa0\\xa0Preparing test cases which reflects business requirements\\xa0</p><p>·\\xa0\\xa0\\xa0\\xa0\\xa0\\xa0Creating automated tests using Python\\xa0</p><p>·\\xa0\\xa0\\xa0\\xa0\\xa0\\xa0Leading system integration, regression and user acceptance testing\\xa0</p><p>·\\xa0\\xa0\\xa0\\xa0\\xa0\\xa0Ensuring data quality together with Data Analysts\\xa0\\xa0\\xa0\\xa0</p><p>·\\xa0\\xa0\\xa0\\xa0\\xa0\\xa0Testing performance of data platform components and web applications\\xa0</p><p>·\\xa0\\xa0\\xa0\\xa0\\xa0\\xa0Contributing to reusable testing components development\\xa0</p><p>\\xa0</p><p>\\xa0</p><p><strong>What is required to get the job done?</strong>\\xa0</p><p>·\\xa0\\xa0\\xa0\\xa0\\xa0\\xa05 years of experience in software testing\\xa0</p><p>·\\xa0\\xa0\\xa0\\xa0\\xa0\\xa0Deep understanding of QA process and best practices\\xa0\\xa0\\xa0</p><p>·\\xa0\\xa0\\xa0\\xa0\\xa0\\xa0Strong coding skills (Python)\\xa0\\xa0</p><p>·\\xa0\\xa0\\xa0\\xa0\\xa0\\xa0Extensive experience with automation frameworks (Robot Framework)\\xa0</p><p>·\\xa0\\xa0\\xa0\\xa0\\xa0\\xa0Good knowledge about SQL\\xa0\\xa0</p><p>·\\xa0\\xa0\\xa0\\xa0\\xa0\\xa0Familiarity with CI/CD tools and Docker\\xa0</p><p>·\\xa0\\xa0\\xa0\\xa0\\xa0\\xa0<strong>Being a great team player</strong></p><p>·\\xa0\\xa0\\xa0\\xa0<strong>  Work from the Warsaw's  office -</strong>1/2 times a week\\xa0</p><p><br></p><p><strong>What are we building?</strong>\\xa0</p><p>·\\xa0\\xa0\\xa0\\xa0\\xa0\\xa0Data platform to integrate, manage and curate complex medical data sets\\xa0</p><p>·\\xa0\\xa0\\xa0\\xa0\\xa0\\xa0ETL solutions to process data from multiple disparate sources (spanning different countries, languages and compliance requirements)\\xa0</p><p>·\\xa0\\xa0\\xa0\\xa0\\xa0\\xa0Master data management tool specialized on the governance of electronic medical records (EMR) reference dimensions (diagnosis, posology, laboratory &amp; test values, doctors, products)\\xa0</p><p>·\\xa0\\xa0\\xa0\\xa0\\xa0\\xa0Privacy Hub that ensures patient data anonymization according to EU regulations\\xa0</p><p>·\\xa0\\xa0\\xa0\\xa0\\xa0\\xa0Business Intelligence solutions at the top of data we managed\\xa0</p><p>\\xa0</p><p>\\xa0</p><p><strong>What technology are we using?</strong>\\xa0</p><p>·\\xa0\\xa0\\xa0\\xa0\\xa0\\xa0Data Engineering: Cloudera Data Platform, Databricks, Hadoop, Hive, Kudu, Spark, Kafka, Camunda, Scala, Java,\\xa0\\xa0</p><p>·\\xa0\\xa0\\xa0\\xa0\\xa0\\xa0Web application development: Java, C#, Angular, Oracle, Elasticsearch, Kafka\\xa0</p><p>·\\xa0\\xa0\\xa0\\xa0\\xa0\\xa0Testing: Python, Robot Framework\\xa0</p><p>·\\xa0\\xa0\\xa0\\xa0\\xa0\\xa0Cloud: Microsoft Azure\\xa0</p><p>·\\xa0\\xa0\\xa0\\xa0\\xa0\\xa0Containerization: Docker, Kubernetes\\xa0</p><p><br></p><p><strong>What do we offer?</strong></p><p>\\xa0\\xa0</p><ul>\\r\\n<li>Challenging role within the company that creates innovative solutions</li>\\r\\n<li>Implementing best practices and building competencies of the entire team</li>\\r\\n<li>Subsidized private medical care and multisport card, life insurance</li>\\r\\n<li>Integration meetings</li>\\r\\n<li>Employee referral program</li>\\r\\n</ul>\",\n",
       " 'city': 'Bydgoszcz',\n",
       " 'street': 'Gdańska 106',\n",
       " 'latitude': 53.1347747,\n",
       " 'longitude': 18.0133152,\n",
       " 'companySize': '101-500',\n",
       " 'informationClause': 'Informujemy, że administratorem danych jest Softblue SA  z siedzibą w Bydgoszczy, ul. Jana Zamoyskiego 2B(dalej jako \"administrator\"). Masz prawo do żądania dostępu do swoich danych osobowych, ich sprostowania, usunięcia lub ograniczenia przetwarzania, prawo do wniesienia sprzeciwu wobec przetwarzania, a także prawo do przenoszenia danych oraz wniesienia skargi do organu nadzorczego. Dane osobowe przetwarzane będą w celu realizacji procesu rekrutacji. Podanie danych w zakresie wynikającym z ustawy z dnia 26 czerwca 1974 r. Kodeks pracy jest obowiązkowe. W pozostałym zakresie podanie danych jest dobrowolne. Odmowa podania danych obowiązkowych może skutkować brakiem możliwości przeprowadzenia procesu rekrutacji. Administrator przetwarza dane obowiązkowe na podstawie ciążącego na nim obowiązku prawnego, zaś w zakresie danych dodatkowych podstawą przetwarzania jest zgoda. Dane osobowe będą przetwarzane do czasu zakończenia postępowania rekrutacyjnego i przez okres możliwości dochodzenia ewentualnych roszczeń, a w przypadku wyrażenia zgody na udział w przyszłych postępowaniach rekrutacyjnych - do czasu wycofania tej zgody. Zgoda na przetwarzanie danych osobowych może zostać wycofana w dowolnym momencie. Odbiorcą danych jest serwis Just Join IT oraz inne podmioty, którym powierzyliśmy przetwarzanie danych w związku z rekrutacją.',\n",
       " 'futureConsent': 'Wyrażam zgodę na przetwarzanie moich danych osobowych dla celów przyszłych rekrutacji.',\n",
       " 'customConsent': None,\n",
       " 'companyLogoUrl': 'https://public.justjoin.it/offers/company_logos/original_x2/5a2bffd9edd005f3d1c3514395347a63e43985e8.png?1713258521',\n",
       " 'remoteInterview': True,\n",
       " 'employmentTypes': [{'to': 21500,\n",
       "   'from': 13500,\n",
       "   'type': 'b2b',\n",
       "   'currency': 'pln',\n",
       "   'fromChf': 3025,\n",
       "   'toChf': 4818,\n",
       "   'fromEur': 3127,\n",
       "   'toEur': 4980,\n",
       "   'fromGbp': 2648,\n",
       "   'toGbp': 4217,\n",
       "   'fromUsd': 3346,\n",
       "   'toUsd': 5330,\n",
       "   'fromPln': 13500,\n",
       "   'toPln': 21500,\n",
       "   'label': 'B2B',\n",
       "   'gross': None}],\n",
       " 'workplaceType': {'label': 'Remote', 'value': 'remote'},\n",
       " 'requiredSkills': [{'name': 'Automated Testing', 'level': 4},\n",
       "  {'name': 'Robot Framework', 'level': 4},\n",
       "  {'name': 'Python', 'level': 3},\n",
       "  {'name': 'SQL', 'level': 3},\n",
       "  {'name': 'CI/CD', 'level': 3},\n",
       "  {'name': 'Docker', 'level': 3},\n",
       "  {'name': 'Microsoft Azure Cloud', 'level': 3}],\n",
       " 'niceToHaveSkills': [],\n",
       " 'workingTime': {'label': 'Full-time', 'value': 'full_time'},\n",
       " 'applyUrl': 'https://softbluesa.traffit.com/public/form/a/1ee68bdc80a2a0c48a976d3aa29410ce6b376b3d',\n",
       " 'publishedAt': '2024-04-28T10:00:03.934Z',\n",
       " 'coverImage': 'https://og-image.justjoin.it/ogimage/JustJoinIt/softblue-software-qa-engineer?1714311782',\n",
       " 'brandStorySlug': None,\n",
       " 'brandStoryCoverPhotoUrl': None,\n",
       " 'brandStoryShortDescription': None,\n",
       " 'openToHireUkrainians': False,\n",
       " 'multilocation': [{'city': 'Bydgoszcz',\n",
       "   'street': 'Gdańska 106',\n",
       "   'slug': 'softblue-software-qa-engineer',\n",
       "   'salaryCurrency': None}],\n",
       " 'videoUrl': None,\n",
       " 'bannerUrl': None,\n",
       " 'isOfferActive': True}"
      ]
     },
     "execution_count": 284,
     "metadata": {},
     "output_type": "execute_result"
    }
   ],
   "source": [
    "offer_data = json_data['props']['pageProps']['offer']\n",
    "offer_data"
   ]
  },
  {
   "cell_type": "code",
   "execution_count": 316,
   "id": "671008a8",
   "metadata": {},
   "outputs": [],
   "source": [
    "offerName = offer_data['title']\n",
    "publishedAt = offer_data['publishedAt']\n",
    "applyUrl = offer_data['applyUrl']\n",
    "workingTime = offer_data['workingTime']['label']\n",
    "cities = []\n",
    "for i in offer_data['multilocation']:\n",
    "    cities.append(i['city'])\n",
    "    \n",
    "company_name = offer_data['companyName']\n",
    "workplaceType = offer_data['workplaceType']['label']\n",
    "\n",
    "required_skills_json = offer_data['requiredSkills']\n",
    "\n",
    "nice_to_have_skills_json = offer_data['niceToHaveSkills']\n",
    "\n",
    "description = offer_data['body']\n",
    "experienceLevel = offer_data['experienceLevel']['label']\n",
    "\n",
    "\n"
   ]
  },
  {
   "cell_type": "code",
   "execution_count": 315,
   "id": "225f7115",
   "metadata": {},
   "outputs": [
    {
     "name": "stdout",
     "output_type": "stream",
     "text": [
      "{'Go': 4}\n"
     ]
    }
   ],
   "source": [
    "required_skills = dict()\n",
    "for skill in required_skills_json:\n",
    "    required_skills[skill['name']] = skill['level']\n",
    "print (required_skills)"
   ]
  },
  {
   "cell_type": "code",
   "execution_count": 318,
   "id": "b4417e91",
   "metadata": {},
   "outputs": [],
   "source": [
    "def skills_extraction(skills_json):\n",
    "    skills = dict()\n",
    "    for skill in skills_json:\n",
    "        skills[skill['name']] = skill['level']\n",
    "    return skills"
   ]
  },
  {
   "cell_type": "code",
   "execution_count": 321,
   "id": "4907e80d",
   "metadata": {},
   "outputs": [
    {
     "data": {
      "text/plain": [
       "{'Go': 4}"
      ]
     },
     "execution_count": 321,
     "metadata": {},
     "output_type": "execute_result"
    }
   ],
   "source": [
    "skills_extraction(required_skills_json)"
   ]
  },
  {
   "cell_type": "code",
   "execution_count": 320,
   "id": "51a61bb9",
   "metadata": {},
   "outputs": [
    {
     "data": {
      "text/plain": [
       "{}"
      ]
     },
     "execution_count": 320,
     "metadata": {},
     "output_type": "execute_result"
    }
   ],
   "source": [
    "skills_extraction(nice_to_have_skills_json)"
   ]
  },
  {
   "cell_type": "code",
   "execution_count": 414,
   "id": "5411db3b",
   "metadata": {},
   "outputs": [],
   "source": [
    "# What can be used:\n",
    "#cities          +\n",
    "#companyName     +\n",
    "#workplaceType   +\n",
    "#requiredSkills  +\n",
    "#niceToHaveSkills+\n",
    "#workingTime     +\n",
    "#applyUrl        +\n",
    "#publishedAt     +\n",
    "#multilocation ?? - looks same as city"
   ]
  },
  {
   "cell_type": "markdown",
   "id": "4dca2ed3",
   "metadata": {},
   "source": [
    "## Final solution\n",
    "Can be extracted to .py file with imports (first cell) and function skills_extraction (above)."
   ]
  },
  {
   "cell_type": "code",
   "execution_count": 400,
   "id": "3a0332fd",
   "metadata": {},
   "outputs": [],
   "source": [
    "main_sites = [\"https://justjoin.it/all-locations/analytics/remote_yes?orderBy=DESC&sortBy=newest\",\n",
    "              \"https://justjoin.it/all-locations/data/experience-level_junior.mid/remote_yes?orderBy=DESC&sortBy=newest\"]\n",
    "#not one main site, just offers which intrests me"
   ]
  },
  {
   "cell_type": "code",
   "execution_count": 401,
   "id": "7b6819b9",
   "metadata": {},
   "outputs": [],
   "source": [
    "#provide just join it sites list with search criteria, return list of links to job offers\n",
    "def get_offer_links(sites):\n",
    "    \n",
    "    links_set = set()\n",
    "    for site in sites:\n",
    "        f = requests.get(site)\n",
    "        site_soup = BeautifulSoup(f.text, \"html.parser\")\n",
    "        \n",
    "        #using set because we need unique links\n",
    "        for link in site_soup.find_all(\"a\"):\n",
    "            if \"/offers/\" in link.get(\"href\"): \n",
    "                links_set.add(link.get(\"href\"))\n",
    "    \n",
    "    return list(links_set)"
   ]
  },
  {
   "cell_type": "code",
   "execution_count": 402,
   "id": "ac45018d",
   "metadata": {},
   "outputs": [],
   "source": [
    "links_list = get_offer_links(main_sites)\n"
   ]
  },
  {
   "cell_type": "code",
   "execution_count": 403,
   "id": "5d905ca2",
   "metadata": {},
   "outputs": [
    {
     "data": {
      "text/plain": [
       "121"
      ]
     },
     "execution_count": 403,
     "metadata": {},
     "output_type": "execute_result"
    }
   ],
   "source": [
    "len(links_list)"
   ]
  },
  {
   "cell_type": "code",
   "execution_count": 447,
   "id": "8eefa8aa",
   "metadata": {},
   "outputs": [],
   "source": [
    "## final version 2\n",
    "## final solution\n",
    "## writing all data to pandas\n",
    "\n",
    "\n",
    "def get_offers_data_and_save(links_list):\n",
    "    \n",
    "    df = pd.DataFrame(columns = [\"source_id\",\"source\", \"name\", \"company_name\",\"published_at\", \"attributes\", \"salary\", \"experience_level\", \"working_time\", \"location\", \"workplace_type\", \"required_skills\", \"nice_to_have_skills\", \"description\",\"offer_url\", \"apply_url\" ])\n",
    "\n",
    "    for index, link in enumerate(tqdm(links_list)):\n",
    "        site = \"https://justjoin.it\" + link\n",
    "        offer = requests.get(site)\n",
    "        offer_soup = BeautifulSoup(offer.text, \"html.parser\")\n",
    "\n",
    "        #job position name\n",
    "        name = offer_soup.find_all(\"h1\")[1].text\n",
    "\n",
    "        #retriving attributes names\n",
    "        att = []\n",
    "        for i in offer_soup.find_all(\"div\", {\"class\":\"css-qyml61\"}):\n",
    "            att.append(i.text)\n",
    "\n",
    "        #retrieving attributes values\n",
    "        att_values = []\n",
    "        for i in offer_soup.find_all(\"div\", {\"class\":\"css-15wyzmd\"}):\n",
    "            att_values.append(i.text)\n",
    "\n",
    "        #attributtes: 'Type of work', Experience', 'Employment Type', 'Operating mode'}\n",
    "        offer_attributes = dict(zip(att, att_values))\n",
    "\n",
    "        #salary\n",
    "\n",
    "        salaries_soap = offer_soup.find_all(\"div\",{\"class\":\"css-j7qwjs\"})\n",
    "        if salaries_soap:\n",
    "            salaries_range = []\n",
    "            salaries_type = []\n",
    "            for i in salaries_soap:\n",
    "                salaries_range.append(i.find(\"span\",{\"class\":\"css-1pavfqb\"}).text)\n",
    "                salaries_type.append(i.find(\"span\",{\"class\":\"css-1waow8k\"}).text)\n",
    "        salary = dict(zip(salaries_range,salaries_type))\n",
    "\n",
    "        #company name\n",
    "        company_name = offer_soup.find_all(\"div\", {\"class\": \"css-mbkv7r\"})[0].text\n",
    "\n",
    "        #technical stack\n",
    "        #tech_stack_soup = offer_soup.find(\"ul\",{\"class\":\"css-1uak81x\"})\n",
    "        #tech_stack = {}\n",
    "        #for i in tech_stack_soup.find_all(\"div\", {\"class\": \"css-cjymd2\"}):\n",
    "        #    tech_stack[i.find(\"h6\").text] = i.find(\"span\").text\n",
    "\n",
    "\n",
    "        json_data = json.loads(offer_soup.find(\"script\", {\"type\": \"application/json\"}).text)\n",
    "        offer_data = json_data['props']['pageProps']['offer']\n",
    "\n",
    "        #offerName = offer_data['title']\n",
    "        publishedAt = offer_data['publishedAt']\n",
    "        applyUrl = offer_data['applyUrl']\n",
    "        workingTime = offer_data['workingTime']['label']\n",
    "        cities = []\n",
    "        for i in offer_data['multilocation']:\n",
    "            cities.append(i['city'])\n",
    "\n",
    "        #company_name = offer_data['companyName']\n",
    "        workplaceType = offer_data['workplaceType']['label']\n",
    "\n",
    "        required_skills_json = offer_data['requiredSkills']\n",
    "\n",
    "        nice_to_have_skills_json = offer_data['niceToHaveSkills']\n",
    "\n",
    "        description = offer_data['body']\n",
    "        experienceLevel = offer_data['experienceLevel']['label']\n",
    "\n",
    "        #to change\n",
    "        #ids = [json_data['buildId'],json_data['runtimeConfig']['MAP_API_KEY']]\n",
    "\n",
    "        #writing to dataframe    \n",
    "        #print({\"name\":name, \"link\":site, \"attributes\":offer_attributes, \"salary\": salary, \"company_name\":company_name, \"tech_stack\":tech_stack, \"description\":\"\"})\n",
    "        df.loc[index]={\"source_id\":None ,\"source\": \"just_join_it\",\n",
    "                       \"name\":name, \"company_name\":company_name, \"published_at\":publishedAt, \"attributes\":offer_attributes, \n",
    "                       \"salary\":salary, \"experience_level\":experienceLevel, \"working_time\":workingTime, \"location\":cities,\n",
    "                       \"workplace_type\":workplaceType, \"required_skills\":skills_extraction(required_skills_json), \"nice_to_have_skills\":skills_extraction(nice_to_have_skills_json), \n",
    "                       \"description\":description,\"offer_url\":site, \"apply_url\":applyUrl }   \n",
    "    #df = df.reset_index(drop=True)\n",
    "\n",
    "    print(\"Writing file...\")\n",
    "    today = time.strftime(\"%Y%m%d_%H%M\")\n",
    "    file_name = f\"{today}_offers.csv\"\n",
    "    df.to_csv(file_name)\n",
    "    print(\"Created\", file_name)\n",
    "    \n",
    "    return df\n"
   ]
  },
  {
   "cell_type": "code",
   "execution_count": 445,
   "id": "7412386c",
   "metadata": {},
   "outputs": [
    {
     "name": "stderr",
     "output_type": "stream",
     "text": [
      "100%|█████████████████████████████████████████████| 4/4 [00:02<00:00,  1.83it/s]"
     ]
    },
    {
     "name": "stdout",
     "output_type": "stream",
     "text": [
      "Writing file...\n",
      "Created 20240429_1332_offers.csv\n"
     ]
    },
    {
     "name": "stderr",
     "output_type": "stream",
     "text": [
      "\n"
     ]
    }
   ],
   "source": [
    "df = get_offers_data_and_save(links_list[0:4])"
   ]
  },
  {
   "cell_type": "code",
   "execution_count": 448,
   "id": "ec8a5fd7",
   "metadata": {},
   "outputs": [
    {
     "data": {
      "text/html": [
       "<div>\n",
       "<style scoped>\n",
       "    .dataframe tbody tr th:only-of-type {\n",
       "        vertical-align: middle;\n",
       "    }\n",
       "\n",
       "    .dataframe tbody tr th {\n",
       "        vertical-align: top;\n",
       "    }\n",
       "\n",
       "    .dataframe thead th {\n",
       "        text-align: right;\n",
       "    }\n",
       "</style>\n",
       "<table border=\"1\" class=\"dataframe\">\n",
       "  <thead>\n",
       "    <tr style=\"text-align: right;\">\n",
       "      <th></th>\n",
       "      <th>source_id</th>\n",
       "      <th>source</th>\n",
       "      <th>name</th>\n",
       "      <th>company_name</th>\n",
       "      <th>published_at</th>\n",
       "      <th>attributes</th>\n",
       "      <th>salary</th>\n",
       "      <th>experience_level</th>\n",
       "      <th>working_time</th>\n",
       "      <th>location</th>\n",
       "      <th>workplace_type</th>\n",
       "      <th>required_skills</th>\n",
       "      <th>nice_to_have_skills</th>\n",
       "      <th>description</th>\n",
       "      <th>offer_url</th>\n",
       "      <th>apply_url</th>\n",
       "    </tr>\n",
       "  </thead>\n",
       "  <tbody>\n",
       "    <tr>\n",
       "      <th>0</th>\n",
       "      <td>None</td>\n",
       "      <td>just_join_it</td>\n",
       "      <td>Data Engineer</td>\n",
       "      <td>MasterBorn Sp. z o.o.</td>\n",
       "      <td>2024-04-26T13:52:00.000Z</td>\n",
       "      <td>{'Type of work': 'Full-time', 'Experience': 'M...</td>\n",
       "      <td>{'9 000 - 15 000 PLN': 'Net/month - B2B'}</td>\n",
       "      <td>Mid</td>\n",
       "      <td>Full-time</td>\n",
       "      <td>[Wrocław, Gdańsk, Kielce, Kraków, Bydgoszcz, W...</td>\n",
       "      <td>Remote</td>\n",
       "      <td>{'SQL': 4, 'ETL': 4, 'English': 4, 'Polish': 3...</td>\n",
       "      <td>{}</td>\n",
       "      <td>&lt;p&gt;&lt;strong&gt;Meet MasterBorn, a world-class soft...</td>\n",
       "      <td>https://justjoin.it/offers/masterborn-sp-z-o-o...</td>\n",
       "      <td>https://jobs.lever.co/masterborn-2/1c64e3ae-47...</td>\n",
       "    </tr>\n",
       "    <tr>\n",
       "      <th>1</th>\n",
       "      <td>None</td>\n",
       "      <td>just_join_it</td>\n",
       "      <td>Function Architecture Specialist</td>\n",
       "      <td>Reply Polska Sp. z o. o.</td>\n",
       "      <td>2024-04-26T15:00:04.861Z</td>\n",
       "      <td>{'Type of work': 'Full-time', 'Experience': 'M...</td>\n",
       "      <td>{'9 000 - 16 000 PLN': 'Gross/month - Permanent'}</td>\n",
       "      <td>Mid</td>\n",
       "      <td>Full-time</td>\n",
       "      <td>[Łodź, Chorzów, Bielsko-Biała, Opole, Kielce, ...</td>\n",
       "      <td>Remote</td>\n",
       "      <td>{'Enterprise Architect': 3, 'SYS-ML': 3}</td>\n",
       "      <td>{}</td>\n",
       "      <td>&lt;h2&gt;Responsibilities&lt;/h2&gt;&lt;p&gt;&lt;br&gt;&lt;/p&gt;&lt;ul&gt;\\n&lt;li&gt;...</td>\n",
       "      <td>https://justjoin.it/offers/reply-polska-sp-z-o...</td>\n",
       "      <td>https://www.reply.com/en/about/careers/pl/job-...</td>\n",
       "    </tr>\n",
       "    <tr>\n",
       "      <th>2</th>\n",
       "      <td>None</td>\n",
       "      <td>just_join_it</td>\n",
       "      <td>Data Engineer</td>\n",
       "      <td>Customertimes</td>\n",
       "      <td>2024-04-28T13:00:03.851Z</td>\n",
       "      <td>{'Type of work': 'Full-time', 'Experience': 'M...</td>\n",
       "      <td>{'9 000 - 16 000 PLN': 'Gross/month - Permanent'}</td>\n",
       "      <td>Mid</td>\n",
       "      <td>Full-time</td>\n",
       "      <td>[Warszawa]</td>\n",
       "      <td>Remote</td>\n",
       "      <td>{'Python': 5, 'AWS': 5, 'Glue': 4, 'Lambda': 4...</td>\n",
       "      <td>{}</td>\n",
       "      <td>&lt;p&gt;We are seeking an experienced, dedicated, a...</td>\n",
       "      <td>https://justjoin.it/offers/customertimes-data-...</td>\n",
       "      <td>None</td>\n",
       "    </tr>\n",
       "    <tr>\n",
       "      <th>3</th>\n",
       "      <td>None</td>\n",
       "      <td>just_join_it</td>\n",
       "      <td>Application Delivery Analyst</td>\n",
       "      <td>Simplicity Recruitment</td>\n",
       "      <td>2024-04-26T14:00:04.118Z</td>\n",
       "      <td>{'Type of work': 'Full-time', 'Experience': 'M...</td>\n",
       "      <td>{'9 000 - 16 000 PLN': 'Gross/month - Permanent'}</td>\n",
       "      <td>Mid</td>\n",
       "      <td>Full-time</td>\n",
       "      <td>[Gdańsk, Kraków, Warszawa]</td>\n",
       "      <td>Remote</td>\n",
       "      <td>{'English': 4, 'SQL': 2, 'WMS': 1}</td>\n",
       "      <td>{}</td>\n",
       "      <td>&lt;p&gt;&lt;strong&gt;🚀 Exciting Opportunity: Application...</td>\n",
       "      <td>https://justjoin.it/offers/simplicity-recruitm...</td>\n",
       "      <td>None</td>\n",
       "    </tr>\n",
       "  </tbody>\n",
       "</table>\n",
       "</div>"
      ],
      "text/plain": [
       "  source_id        source                              name  \\\n",
       "0      None  just_join_it                     Data Engineer   \n",
       "1      None  just_join_it  Function Architecture Specialist   \n",
       "2      None  just_join_it                     Data Engineer   \n",
       "3      None  just_join_it      Application Delivery Analyst   \n",
       "\n",
       "               company_name              published_at  \\\n",
       "0     MasterBorn Sp. z o.o.  2024-04-26T13:52:00.000Z   \n",
       "1  Reply Polska Sp. z o. o.  2024-04-26T15:00:04.861Z   \n",
       "2             Customertimes  2024-04-28T13:00:03.851Z   \n",
       "3    Simplicity Recruitment  2024-04-26T14:00:04.118Z   \n",
       "\n",
       "                                          attributes  \\\n",
       "0  {'Type of work': 'Full-time', 'Experience': 'M...   \n",
       "1  {'Type of work': 'Full-time', 'Experience': 'M...   \n",
       "2  {'Type of work': 'Full-time', 'Experience': 'M...   \n",
       "3  {'Type of work': 'Full-time', 'Experience': 'M...   \n",
       "\n",
       "                                              salary experience_level  \\\n",
       "0          {'9 000 - 15 000 PLN': 'Net/month - B2B'}              Mid   \n",
       "1  {'9 000 - 16 000 PLN': 'Gross/month - Permanent'}              Mid   \n",
       "2  {'9 000 - 16 000 PLN': 'Gross/month - Permanent'}              Mid   \n",
       "3  {'9 000 - 16 000 PLN': 'Gross/month - Permanent'}              Mid   \n",
       "\n",
       "  working_time                                           location  \\\n",
       "0    Full-time  [Wrocław, Gdańsk, Kielce, Kraków, Bydgoszcz, W...   \n",
       "1    Full-time  [Łodź, Chorzów, Bielsko-Biała, Opole, Kielce, ...   \n",
       "2    Full-time                                         [Warszawa]   \n",
       "3    Full-time                         [Gdańsk, Kraków, Warszawa]   \n",
       "\n",
       "  workplace_type                                    required_skills  \\\n",
       "0         Remote  {'SQL': 4, 'ETL': 4, 'English': 4, 'Polish': 3...   \n",
       "1         Remote           {'Enterprise Architect': 3, 'SYS-ML': 3}   \n",
       "2         Remote  {'Python': 5, 'AWS': 5, 'Glue': 4, 'Lambda': 4...   \n",
       "3         Remote                 {'English': 4, 'SQL': 2, 'WMS': 1}   \n",
       "\n",
       "  nice_to_have_skills                                        description  \\\n",
       "0                  {}  <p><strong>Meet MasterBorn, a world-class soft...   \n",
       "1                  {}  <h2>Responsibilities</h2><p><br></p><ul>\\n<li>...   \n",
       "2                  {}  <p>We are seeking an experienced, dedicated, a...   \n",
       "3                  {}  <p><strong>🚀 Exciting Opportunity: Application...   \n",
       "\n",
       "                                           offer_url  \\\n",
       "0  https://justjoin.it/offers/masterborn-sp-z-o-o...   \n",
       "1  https://justjoin.it/offers/reply-polska-sp-z-o...   \n",
       "2  https://justjoin.it/offers/customertimes-data-...   \n",
       "3  https://justjoin.it/offers/simplicity-recruitm...   \n",
       "\n",
       "                                           apply_url  \n",
       "0  https://jobs.lever.co/masterborn-2/1c64e3ae-47...  \n",
       "1  https://www.reply.com/en/about/careers/pl/job-...  \n",
       "2                                               None  \n",
       "3                                               None  "
      ]
     },
     "execution_count": 448,
     "metadata": {},
     "output_type": "execute_result"
    }
   ],
   "source": [
    "df"
   ]
  },
  {
   "cell_type": "code",
   "execution_count": 449,
   "id": "9a4fde50",
   "metadata": {},
   "outputs": [
    {
     "name": "stdout",
     "output_type": "stream",
     "text": [
      "<class 'pandas.core.frame.DataFrame'>\n",
      "Index: 4 entries, 0 to 3\n",
      "Data columns (total 16 columns):\n",
      " #   Column               Non-Null Count  Dtype \n",
      "---  ------               --------------  ----- \n",
      " 0   source_id            0 non-null      object\n",
      " 1   source               4 non-null      object\n",
      " 2   name                 4 non-null      object\n",
      " 3   company_name         4 non-null      object\n",
      " 4   published_at         4 non-null      object\n",
      " 5   attributes           4 non-null      object\n",
      " 6   salary               4 non-null      object\n",
      " 7   experience_level     4 non-null      object\n",
      " 8   working_time         4 non-null      object\n",
      " 9   location             4 non-null      object\n",
      " 10  workplace_type       4 non-null      object\n",
      " 11  required_skills      4 non-null      object\n",
      " 12  nice_to_have_skills  4 non-null      object\n",
      " 13  description          4 non-null      object\n",
      " 14  offer_url            4 non-null      object\n",
      " 15  apply_url            2 non-null      object\n",
      "dtypes: object(16)\n",
      "memory usage: 544.0+ bytes\n"
     ]
    }
   ],
   "source": [
    "df.info()"
   ]
  },
  {
   "cell_type": "code",
   "execution_count": 450,
   "id": "f190fb8c",
   "metadata": {},
   "outputs": [],
   "source": [
    "#TO DO\n",
    "#adding data to file incrementally (in cycle, e.g. one time per day)\n",
    "#but I can't see attribute to use, no ids, there is published_at, but looks weird (almost all dates set for today's morning)\n",
    "#checking exisiting links doesn't seem to be efficient, moreover it looks that in future in the feature they can be not unique (they are uniqe in the moment, probably not in the timeline)"
   ]
  },
  {
   "cell_type": "code",
   "execution_count": null,
   "id": "9b0c1679",
   "metadata": {},
   "outputs": [],
   "source": []
  }
 ],
 "metadata": {
  "kernelspec": {
   "display_name": "Python 3 (ipykernel)",
   "language": "python",
   "name": "python3"
  },
  "language_info": {
   "codemirror_mode": {
    "name": "ipython",
    "version": 3
   },
   "file_extension": ".py",
   "mimetype": "text/x-python",
   "name": "python",
   "nbconvert_exporter": "python",
   "pygments_lexer": "ipython3",
   "version": "3.11.5"
  }
 },
 "nbformat": 4,
 "nbformat_minor": 5
}
